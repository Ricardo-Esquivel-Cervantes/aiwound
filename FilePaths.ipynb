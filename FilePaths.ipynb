{
 "cells": [
  {
   "cell_type": "code",
   "execution_count": 1,
   "id": "a5343420-ba83-40d5-8f19-52f433ef8b8c",
   "metadata": {},
   "outputs": [],
   "source": [
    "import os\n",
    "import pandas as pd"
   ]
  },
  {
   "cell_type": "code",
   "execution_count": 2,
   "id": "dec70600-adb9-4fec-abad-904c810c09a6",
   "metadata": {},
   "outputs": [
    {
     "data": {
      "text/plain": [
       "'images-unet\\\\train\\\\images'"
      ]
     },
     "execution_count": 2,
     "metadata": {},
     "output_type": "execute_result"
    }
   ],
   "source": [
    "path= 'images-unet'\n",
    "os.path.join(path,'train','images')"
   ]
  },
  {
   "cell_type": "code",
   "execution_count": 3,
   "id": "53320766-3dd0-4ff5-8426-9cc90628a3f3",
   "metadata": {},
   "outputs": [
    {
     "data": {
      "text/plain": [
       "['images-unet\\\\train\\\\images\\\\0020126b06a719c36fed196c2c71f2f0_0.png',\n",
       " 'images-unet\\\\train\\\\images\\\\002985bcbd572241a950bf39b4188d70_0.png',\n",
       " 'images-unet\\\\train\\\\images\\\\00437234527092743faeb39bc59bd7ee_0.png',\n",
       " 'images-unet\\\\train\\\\images\\\\00be2ad4736f6657b767683186615f3f_0.png',\n",
       " 'images-unet\\\\train\\\\images\\\\00bf40d77104c2b4d6d55e431ca009b9_0.png']"
      ]
     },
     "execution_count": 3,
     "metadata": {},
     "output_type": "execute_result"
    }
   ],
   "source": [
    "readfrom=os.path.join(path,'train','images')\n",
    "[os.path.join(readfrom,file) for file in os.listdir(readfrom)[:5]]"
   ]
  },
  {
   "cell_type": "code",
   "execution_count": 4,
   "id": "1f489f87-5253-40b6-9f91-aaacb47efd01",
   "metadata": {},
   "outputs": [
    {
     "data": {
      "text/html": [
       "<div>\n",
       "<style scoped>\n",
       "    .dataframe tbody tr th:only-of-type {\n",
       "        vertical-align: middle;\n",
       "    }\n",
       "\n",
       "    .dataframe tbody tr th {\n",
       "        vertical-align: top;\n",
       "    }\n",
       "\n",
       "    .dataframe thead th {\n",
       "        text-align: right;\n",
       "    }\n",
       "</style>\n",
       "<table border=\"1\" class=\"dataframe\">\n",
       "  <thead>\n",
       "    <tr style=\"text-align: right;\">\n",
       "      <th></th>\n",
       "      <th>0</th>\n",
       "    </tr>\n",
       "  </thead>\n",
       "  <tbody>\n",
       "    <tr>\n",
       "      <th>0</th>\n",
       "      <td>images-unet\\train\\images\\0020126b06a719c36fed1...</td>\n",
       "    </tr>\n",
       "    <tr>\n",
       "      <th>1</th>\n",
       "      <td>images-unet\\train\\images\\002985bcbd572241a950b...</td>\n",
       "    </tr>\n",
       "    <tr>\n",
       "      <th>2</th>\n",
       "      <td>images-unet\\train\\images\\00437234527092743faeb...</td>\n",
       "    </tr>\n",
       "    <tr>\n",
       "      <th>3</th>\n",
       "      <td>images-unet\\train\\images\\00be2ad4736f6657b7676...</td>\n",
       "    </tr>\n",
       "    <tr>\n",
       "      <th>4</th>\n",
       "      <td>images-unet\\train\\images\\00bf40d77104c2b4d6d55...</td>\n",
       "    </tr>\n",
       "  </tbody>\n",
       "</table>\n",
       "</div>"
      ],
      "text/plain": [
       "                                                   0\n",
       "0  images-unet\\train\\images\\0020126b06a719c36fed1...\n",
       "1  images-unet\\train\\images\\002985bcbd572241a950b...\n",
       "2  images-unet\\train\\images\\00437234527092743faeb...\n",
       "3  images-unet\\train\\images\\00be2ad4736f6657b7676...\n",
       "4  images-unet\\train\\images\\00bf40d77104c2b4d6d55..."
      ]
     },
     "execution_count": 4,
     "metadata": {},
     "output_type": "execute_result"
    }
   ],
   "source": [
    "readfrom=os.path.join(path,'train','images')\n",
    "files=[os.path.join(readfrom,file) for file in os.listdir(readfrom)]\n",
    "df = pd.DataFrame(files)\n",
    "df.to_csv('train_images.csv',index=False)\n",
    "df.head()"
   ]
  },
  {
   "cell_type": "code",
   "execution_count": 5,
   "id": "f1d11100-8d30-44b5-8dc0-84b105b190c2",
   "metadata": {},
   "outputs": [
    {
     "data": {
      "text/html": [
       "<div>\n",
       "<style scoped>\n",
       "    .dataframe tbody tr th:only-of-type {\n",
       "        vertical-align: middle;\n",
       "    }\n",
       "\n",
       "    .dataframe tbody tr th {\n",
       "        vertical-align: top;\n",
       "    }\n",
       "\n",
       "    .dataframe thead th {\n",
       "        text-align: right;\n",
       "    }\n",
       "</style>\n",
       "<table border=\"1\" class=\"dataframe\">\n",
       "  <thead>\n",
       "    <tr style=\"text-align: right;\">\n",
       "      <th></th>\n",
       "      <th>0</th>\n",
       "    </tr>\n",
       "  </thead>\n",
       "  <tbody>\n",
       "    <tr>\n",
       "      <th>0</th>\n",
       "      <td>images-unet\\train\\labels\\0020126b06a719c36fed1...</td>\n",
       "    </tr>\n",
       "    <tr>\n",
       "      <th>1</th>\n",
       "      <td>images-unet\\train\\labels\\002985bcbd572241a950b...</td>\n",
       "    </tr>\n",
       "    <tr>\n",
       "      <th>2</th>\n",
       "      <td>images-unet\\train\\labels\\00437234527092743faeb...</td>\n",
       "    </tr>\n",
       "    <tr>\n",
       "      <th>3</th>\n",
       "      <td>images-unet\\train\\labels\\00be2ad4736f6657b7676...</td>\n",
       "    </tr>\n",
       "    <tr>\n",
       "      <th>4</th>\n",
       "      <td>images-unet\\train\\labels\\00bf40d77104c2b4d6d55...</td>\n",
       "    </tr>\n",
       "  </tbody>\n",
       "</table>\n",
       "</div>"
      ],
      "text/plain": [
       "                                                   0\n",
       "0  images-unet\\train\\labels\\0020126b06a719c36fed1...\n",
       "1  images-unet\\train\\labels\\002985bcbd572241a950b...\n",
       "2  images-unet\\train\\labels\\00437234527092743faeb...\n",
       "3  images-unet\\train\\labels\\00be2ad4736f6657b7676...\n",
       "4  images-unet\\train\\labels\\00bf40d77104c2b4d6d55..."
      ]
     },
     "execution_count": 5,
     "metadata": {},
     "output_type": "execute_result"
    }
   ],
   "source": [
    "readfrom=os.path.join(path,'train','labels')\n",
    "files=[os.path.join(readfrom,file) for file in os.listdir(readfrom)]\n",
    "df = pd.DataFrame(files)\n",
    "df.to_csv('train_labels.csv',index=False)\n",
    "df.head()"
   ]
  },
  {
   "cell_type": "code",
   "execution_count": 6,
   "id": "21148aa6-ff74-4c3b-9367-bc5e0219c06d",
   "metadata": {},
   "outputs": [
    {
     "data": {
      "text/html": [
       "<div>\n",
       "<style scoped>\n",
       "    .dataframe tbody tr th:only-of-type {\n",
       "        vertical-align: middle;\n",
       "    }\n",
       "\n",
       "    .dataframe tbody tr th {\n",
       "        vertical-align: top;\n",
       "    }\n",
       "\n",
       "    .dataframe thead th {\n",
       "        text-align: right;\n",
       "    }\n",
       "</style>\n",
       "<table border=\"1\" class=\"dataframe\">\n",
       "  <thead>\n",
       "    <tr style=\"text-align: right;\">\n",
       "      <th></th>\n",
       "      <th>0</th>\n",
       "    </tr>\n",
       "  </thead>\n",
       "  <tbody>\n",
       "    <tr>\n",
       "      <th>0</th>\n",
       "      <td>images-unet\\test\\images\\b23232898bafcf304b2138...</td>\n",
       "    </tr>\n",
       "    <tr>\n",
       "      <th>1</th>\n",
       "      <td>images-unet\\test\\images\\b586407933e66b112820f2...</td>\n",
       "    </tr>\n",
       "    <tr>\n",
       "      <th>2</th>\n",
       "      <td>images-unet\\test\\images\\b61269467f2dc93f3cc31f...</td>\n",
       "    </tr>\n",
       "    <tr>\n",
       "      <th>3</th>\n",
       "      <td>images-unet\\test\\images\\b712446cdd649dcb735673...</td>\n",
       "    </tr>\n",
       "    <tr>\n",
       "      <th>4</th>\n",
       "      <td>images-unet\\test\\images\\b99276bf857375e23da3a9...</td>\n",
       "    </tr>\n",
       "  </tbody>\n",
       "</table>\n",
       "</div>"
      ],
      "text/plain": [
       "                                                   0\n",
       "0  images-unet\\test\\images\\b23232898bafcf304b2138...\n",
       "1  images-unet\\test\\images\\b586407933e66b112820f2...\n",
       "2  images-unet\\test\\images\\b61269467f2dc93f3cc31f...\n",
       "3  images-unet\\test\\images\\b712446cdd649dcb735673...\n",
       "4  images-unet\\test\\images\\b99276bf857375e23da3a9..."
      ]
     },
     "execution_count": 6,
     "metadata": {},
     "output_type": "execute_result"
    }
   ],
   "source": [
    "readfrom=os.path.join(path,'test','images')\n",
    "files=[os.path.join(readfrom,file) for file in os.listdir(readfrom)]\n",
    "df = pd.DataFrame(files)\n",
    "df.to_csv('test_images.csv',index=False)\n",
    "df.head()"
   ]
  },
  {
   "cell_type": "code",
   "execution_count": 7,
   "id": "374ca6c2-0cf2-42a0-9c20-bf3cc469747e",
   "metadata": {},
   "outputs": [
    {
     "data": {
      "text/html": [
       "<div>\n",
       "<style scoped>\n",
       "    .dataframe tbody tr th:only-of-type {\n",
       "        vertical-align: middle;\n",
       "    }\n",
       "\n",
       "    .dataframe tbody tr th {\n",
       "        vertical-align: top;\n",
       "    }\n",
       "\n",
       "    .dataframe thead th {\n",
       "        text-align: right;\n",
       "    }\n",
       "</style>\n",
       "<table border=\"1\" class=\"dataframe\">\n",
       "  <thead>\n",
       "    <tr style=\"text-align: right;\">\n",
       "      <th></th>\n",
       "      <th>0</th>\n",
       "    </tr>\n",
       "  </thead>\n",
       "  <tbody>\n",
       "    <tr>\n",
       "      <th>0</th>\n",
       "      <td>images-unet\\test\\labels\\b23232898bafcf304b2138...</td>\n",
       "    </tr>\n",
       "    <tr>\n",
       "      <th>1</th>\n",
       "      <td>images-unet\\test\\labels\\b586407933e66b112820f2...</td>\n",
       "    </tr>\n",
       "    <tr>\n",
       "      <th>2</th>\n",
       "      <td>images-unet\\test\\labels\\b61269467f2dc93f3cc31f...</td>\n",
       "    </tr>\n",
       "    <tr>\n",
       "      <th>3</th>\n",
       "      <td>images-unet\\test\\labels\\b712446cdd649dcb735673...</td>\n",
       "    </tr>\n",
       "    <tr>\n",
       "      <th>4</th>\n",
       "      <td>images-unet\\test\\labels\\b99276bf857375e23da3a9...</td>\n",
       "    </tr>\n",
       "  </tbody>\n",
       "</table>\n",
       "</div>"
      ],
      "text/plain": [
       "                                                   0\n",
       "0  images-unet\\test\\labels\\b23232898bafcf304b2138...\n",
       "1  images-unet\\test\\labels\\b586407933e66b112820f2...\n",
       "2  images-unet\\test\\labels\\b61269467f2dc93f3cc31f...\n",
       "3  images-unet\\test\\labels\\b712446cdd649dcb735673...\n",
       "4  images-unet\\test\\labels\\b99276bf857375e23da3a9..."
      ]
     },
     "execution_count": 7,
     "metadata": {},
     "output_type": "execute_result"
    }
   ],
   "source": [
    "readfrom=os.path.join(path,'test','labels')\n",
    "files=[os.path.join(readfrom,file) for file in os.listdir(readfrom)]\n",
    "df = pd.DataFrame(files)\n",
    "df.to_csv('test_labels.csv',index=False)\n",
    "df.head()"
   ]
  }
 ],
 "metadata": {
  "kernelspec": {
   "display_name": "Python 3 (ipykernel)",
   "language": "python",
   "name": "python3"
  },
  "language_info": {
   "codemirror_mode": {
    "name": "ipython",
    "version": 3
   },
   "file_extension": ".py",
   "mimetype": "text/x-python",
   "name": "python",
   "nbconvert_exporter": "python",
   "pygments_lexer": "ipython3",
   "version": "3.9.13"
  }
 },
 "nbformat": 4,
 "nbformat_minor": 5
}
